{
 "cells": [
  {
   "cell_type": "code",
   "execution_count": 2,
   "metadata": {},
   "outputs": [
    {
     "data": {
      "text/plain": [
       "'d:\\\\coding\\\\MLProject\\\\KindneyDiseaseClassification'"
      ]
     },
     "execution_count": 2,
     "metadata": {},
     "output_type": "execute_result"
    }
   ],
   "source": [
    "import os\n",
    "os.chdir('../')\n",
    "%pwd"
   ]
  },
  {
   "cell_type": "code",
   "execution_count": 29,
   "metadata": {},
   "outputs": [
    {
     "name": "stdout",
     "output_type": "stream",
     "text": [
      "[2024-10-30 11:21:47,367 : INFO: common :yaml file: config\\config.yaml loaded successfully]\n",
      "[2024-10-30 11:21:47,368 : INFO: common :yaml file: params.yaml loaded successfully]\n",
      "[2024-10-30 11:21:47,368 : INFO: common :Directory already exists for path: artifacts]\n",
      "[2024-10-30 11:21:47,369 : INFO: common :Directory already exists for path: artifacts/data_ingestion]\n",
      "[2024-10-30 11:21:47,369 : INFO: 761354044 :Downloading data from https://drive.google.com/file/d/1KaPgmCOze7F-9yT_-Yq2mtPyhBXDbVzq/view?usp=sharing into file artifacts/data_ingestion/data.zip]\n"
     ]
    },
    {
     "name": "stderr",
     "output_type": "stream",
     "text": [
      "Downloading...\n",
      "From (original): https://drive.google.com/uc?/export=download&id=1KaPgmCOze7F-9yT_-Yq2mtPyhBXDbVzq\n",
      "From (redirected): https://drive.google.com/uc?%2Fexport=download&id=1KaPgmCOze7F-9yT_-Yq2mtPyhBXDbVzq&confirm=t&uuid=a49ae616-245e-4442-a078-0e3b07b7a977\n",
      "To: d:\\coding\\MLProject\\KindneyDiseaseClassification\\artifacts\\data_ingestion\\data.zip\n",
      "100%|██████████| 1.63G/1.63G [02:57<00:00, 9.18MB/s]"
     ]
    },
    {
     "name": "stdout",
     "output_type": "stream",
     "text": [
      "[2024-10-30 11:24:49,775 : INFO: 761354044 :Data downloaded at https://drive.google.com/file/d/1KaPgmCOze7F-9yT_-Yq2mtPyhBXDbVzq/view?usp=sharing into file artifacts/data_ingestion/data.zip]\n"
     ]
    },
    {
     "name": "stderr",
     "output_type": "stream",
     "text": [
      "\n"
     ]
    }
   ],
   "source": [
    "try:\n",
    "  config = ConfigurationManager()\n",
    "  data_ingestion_config = config.get_data_ingestion_config()\n",
    "  data_ingestion = DataIngestion(config=data_ingestion_config)\n",
    "  data_ingestion.download_data()\n",
    "  data_ingestion.extract_zip_file()\n",
    "\n",
    "except Exception as e:\n",
    "  raise e"
   ]
  },
  {
   "cell_type": "code",
   "execution_count": null,
   "metadata": {},
   "outputs": [],
   "source": []
  }
 ],
 "metadata": {
  "kernelspec": {
   "display_name": "kidney_CNN",
   "language": "python",
   "name": "python3"
  },
  "language_info": {
   "codemirror_mode": {
    "name": "ipython",
    "version": 3
   },
   "file_extension": ".py",
   "mimetype": "text/x-python",
   "name": "python",
   "nbconvert_exporter": "python",
   "pygments_lexer": "ipython3",
   "version": "3.8.20"
  }
 },
 "nbformat": 4,
 "nbformat_minor": 2
}
