{
 "cells": [
  {
   "cell_type": "code",
   "execution_count": 6,
   "metadata": {},
   "outputs": [],
   "source": [
    "import gdown\n",
    "import zipfile"
   ]
  },
  {
   "cell_type": "code",
   "execution_count": 2,
   "metadata": {},
   "outputs": [
    {
     "data": {
      "text/plain": [
       "'d:\\\\coding\\\\MLProject\\\\KindneyDiseaseClassification'"
      ]
     },
     "execution_count": 2,
     "metadata": {},
     "output_type": "execute_result"
    }
   ],
   "source": [
    "import os\n",
    "os.chdir(\"../\")\n",
    "%pwd"
   ]
  },
  {
   "cell_type": "code",
   "execution_count": 3,
   "metadata": {},
   "outputs": [],
   "source": [
    "model_drive_url = \"https://drive.google.com/file/d/1aSBsINRxalELJPE0KJMlZ9Qh6uXqBfqy/view?usp=sharing\"\n",
    "model_drive_id = model_drive_url.split(\"/\")[-2]"
   ]
  },
  {
   "cell_type": "code",
   "execution_count": 4,
   "metadata": {},
   "outputs": [],
   "source": [
    "zip_download_dir = \"model/model.zip\"\n",
    "prefix = \"https://drive.google.com/uc?/export=download&id=\""
   ]
  },
  {
   "cell_type": "code",
   "execution_count": 5,
   "metadata": {},
   "outputs": [
    {
     "name": "stderr",
     "output_type": "stream",
     "text": [
      "Downloading...\n",
      "From (original): https://drive.google.com/uc?/export=download&id=1aSBsINRxalELJPE0KJMlZ9Qh6uXqBfqy\n",
      "From (redirected): https://drive.google.com/uc?%2Fexport=download&id=1aSBsINRxalELJPE0KJMlZ9Qh6uXqBfqy&confirm=t&uuid=022e4cfe-a1a2-4a2d-a2bb-a2849c19231c\n",
      "To: d:\\coding\\MLProject\\KindneyDiseaseClassification\\model\\model.zip\n",
      "100%|██████████| 180M/180M [00:17<00:00, 10.2MB/s] \n"
     ]
    },
    {
     "data": {
      "text/plain": [
       "'model/model.zip'"
      ]
     },
     "execution_count": 5,
     "metadata": {},
     "output_type": "execute_result"
    }
   ],
   "source": [
    "gdown.download(prefix + model_drive_id, zip_download_dir)"
   ]
  },
  {
   "cell_type": "code",
   "execution_count": 7,
   "metadata": {},
   "outputs": [],
   "source": [
    "unzip_dir = \"model/Testing\"\n",
    "\n",
    "with zipfile.ZipFile(zip_download_dir, \"r\") as zip_ref:\n",
    "            zip_ref.extractall(unzip_dir)  "
   ]
  },
  {
   "cell_type": "code",
   "execution_count": null,
   "metadata": {},
   "outputs": [],
   "source": []
  }
 ],
 "metadata": {
  "kernelspec": {
   "display_name": "kidney_CNN_1",
   "language": "python",
   "name": "python3"
  },
  "language_info": {
   "codemirror_mode": {
    "name": "ipython",
    "version": 3
   },
   "file_extension": ".py",
   "mimetype": "text/x-python",
   "name": "python",
   "nbconvert_exporter": "python",
   "pygments_lexer": "ipython3",
   "version": "3.10.12"
  }
 },
 "nbformat": 4,
 "nbformat_minor": 2
}
